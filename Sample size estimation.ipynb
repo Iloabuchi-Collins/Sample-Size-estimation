{
 "cells": [
  {
   "cell_type": "markdown",
   "id": "e355d7a6",
   "metadata": {},
   "source": [
    "# We are conducting a research on registration fees for scientific conferences in Nigeria. "
   ]
  },
  {
   "cell_type": "code",
   "execution_count": 41,
   "id": "c933c7bb",
   "metadata": {},
   "outputs": [],
   "source": [
    "import math\n",
    "import scipy.stats"
   ]
  },
  {
   "cell_type": "markdown",
   "id": "6638e738",
   "metadata": {},
   "source": [
    "### A. Estimating Sample of Healthcare Providers\n",
    "\n",
    "- Estimating the sample size needed for finding the mean attendance rate of healthcare providers that is statistically significant\n",
    "- We are working with:\n",
    "    - a population size of 353,600 health professionals in Nigeria\n",
    "    - a 95% confidence level \n",
    "    - a 5% margin of error\n",
    "    - an estimated variance of 60%"
   ]
  },
  {
   "cell_type": "code",
   "execution_count": 42,
   "id": "ecae16f1",
   "metadata": {},
   "outputs": [],
   "source": [
    "def calculate_sample_size(z_score, proportion, margin_of_error):\n",
    "    # Calculate the sample size\n",
    "    sample_size = ((z_score**2) * proportion * (1 - proportion)) / (margin_of_error**2)\n",
    "    \n",
    "    return math.ceil(sample_size)  # Round up to the nearest whole number\n",
    "\n",
    "confidence_level = 0.95  # 95% confidence level\n",
    "z_score = 1.96  # Z-score for 95% confidence\n",
    "estimated_proportion = 0.6  # 60% healthcare professionals attend scientific conferences\n",
    "margin_of_error = 0.05  # 5% margin of error\n",
    "\n",
    "sample_size = calculate_sample_size(z_score, estimated_proportion, margin_of_error)"
   ]
  },
  {
   "cell_type": "code",
   "execution_count": 43,
   "id": "77263f16",
   "metadata": {},
   "outputs": [
    {
     "name": "stdout",
     "output_type": "stream",
     "text": [
      "369\n"
     ]
    }
   ],
   "source": [
    "print(sample_size)"
   ]
  },
  {
   "cell_type": "markdown",
   "id": "dc29e528",
   "metadata": {},
   "source": [
    "### B. Estimating Sample Size of Conferences\n",
    "- We want to estimate the sample size needed for finding the mean registration fee that is statistically significant\n",
    "- We are working with:\n",
    "    - a 95% confidence level \n",
    "    - a 10% margin of error\n",
    "    - an estimated 25% of yearly conferences in Nigeria being healthcare conferences"
   ]
  },
  {
   "cell_type": "code",
   "execution_count": 44,
   "id": "810fd69d",
   "metadata": {},
   "outputs": [],
   "source": [
    "def calculate_sample_size(z_score, proportion, margin_of_error, population_size):\n",
    "    # Calculate the sample size without finite population correction\n",
    "    n_0 = ((z_score**2) * proportion * (1 - proportion)) / (margin_of_error**2)\n",
    "    \n",
    "    # Apply finite population correction\n",
    "    conference_sample_size = (population_size * n_0) / (population_size + n_0 - 1)\n",
    "    \n",
    "    return math.ceil(conference_sample_size)  # Round up to the nearest whole number\n",
    "\n",
    "confidence_level = 0.95  # 95% confidence level\n",
    "z_score = 1.96  # Z-score for 95% confidence\n",
    "estimated_proportion = 0.25  # 25% of scientific conferences are healthcare related (estimated)\n",
    "margin_of_error = 0.1  # 10% margin of error\n",
    "total_population = 1200  # Total population size\n",
    "\n",
    "conference_sample_size = calculate_sample_size(z_score, estimated_proportion, margin_of_error, total_population)"
   ]
  },
  {
   "cell_type": "code",
   "execution_count": 45,
   "id": "3d4d5486",
   "metadata": {},
   "outputs": [
    {
     "name": "stdout",
     "output_type": "stream",
     "text": [
      "69\n"
     ]
    }
   ],
   "source": [
    "print(conference_sample_size)"
   ]
  },
  {
   "cell_type": "markdown",
   "id": "faa6c639",
   "metadata": {},
   "source": [
    "### C. Estimating Sample Size of registration fees\n",
    "\n",
    "- We want to estimate the sample size needed for finding the mean registration fee that is statistically significant\n",
    "- We are working with:\n",
    "    - a 95% confidence level \n",
    "    - a ₦5,000 margin of error\n",
    "    - an estimated ₦20,000 standard deviation"
   ]
  },
  {
   "cell_type": "code",
   "execution_count": 46,
   "id": "57efd096",
   "metadata": {},
   "outputs": [],
   "source": [
    "margin_of_error = 5000   #Desired margin of error\n",
    "std_dev = 20000   #Population standard deviation (an estimate was used)\n",
    "\n",
    "#Calculate the Z-score for the confidence level\n",
    "z_score = scipy.stats.norm.ppf(1 - (1 - confidence_level) / 2)\n",
    "\n",
    "#Calculate the sample size\n",
    "registration_sample_size = ((z_score * std_dev) / margin_of_error) ** 2\n",
    "\n",
    "#Round up to the nearest whole number\n",
    "registration_sample_size = math.ceil(registration_sample_size)"
   ]
  },
  {
   "cell_type": "code",
   "execution_count": 47,
   "id": "598eec0e",
   "metadata": {},
   "outputs": [
    {
     "name": "stdout",
     "output_type": "stream",
     "text": [
      "62\n"
     ]
    }
   ],
   "source": [
    "print(registration_sample_size)"
   ]
  },
  {
   "cell_type": "markdown",
   "id": "0f5e3104",
   "metadata": {},
   "source": [
    "Thus, \n",
    "The questionnaires need to reach a minimum of 369 healthcare professionals and cover at least 69 different conferences across the country."
   ]
  }
 ],
 "metadata": {
  "kernelspec": {
   "display_name": "Python 3 (ipykernel)",
   "language": "python",
   "name": "python3"
  },
  "language_info": {
   "codemirror_mode": {
    "name": "ipython",
    "version": 3
   },
   "file_extension": ".py",
   "mimetype": "text/x-python",
   "name": "python",
   "nbconvert_exporter": "python",
   "pygments_lexer": "ipython3",
   "version": "3.11.3"
  }
 },
 "nbformat": 4,
 "nbformat_minor": 5
}
