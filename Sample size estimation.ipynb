{
 "cells": [
  {
   "cell_type": "markdown",
   "id": "e355d7a6",
   "metadata": {},
   "source": [
    "## We are conducting a research on registration fees for surgical conferences in Nigeria. \n",
    "\n",
    "- We want to estimate the sample size needed for finding the mean registration fee that is statistically significant\n",
    "- We are working with:\n",
    "    - a 95% confidence level \n",
    "    - a ₦5,000 margin of error\n",
    "    - an estimated ₦20,000 standard deviation"
   ]
  },
  {
   "cell_type": "code",
   "execution_count": 1,
   "id": "c933c7bb",
   "metadata": {},
   "outputs": [],
   "source": [
    "import math\n",
    "import scipy.stats"
   ]
  },
  {
   "cell_type": "code",
   "execution_count": 2,
   "id": "06e8becc",
   "metadata": {},
   "outputs": [],
   "source": [
    "#Constants\n",
    "\n",
    "confidence_level = 0.95   #Desired confidence level (95%)\n",
    "margin_of_error = 5000   #Desired margin of error\n",
    "std_dev = 20000   #Population standard deviation (an estimate was used)"
   ]
  },
  {
   "cell_type": "code",
   "execution_count": 11,
   "id": "57efd096",
   "metadata": {},
   "outputs": [],
   "source": [
    "#Calculate the Z-score for the confidence level\n",
    "z_score = scipy.stats.norm.ppf(1 - (1 - confidence_level) / 2)\n",
    "\n",
    "#Calculate the sample size\n",
    "sample_size = ((z_score * std_dev) / margin_of_error) ** 2\n",
    "\n",
    "#Round up to the nearest whole number\n",
    "sample_size = math.ceil(sample_size)"
   ]
  },
  {
   "cell_type": "code",
   "execution_count": 13,
   "id": "598eec0e",
   "metadata": {},
   "outputs": [
    {
     "name": "stdout",
     "output_type": "stream",
     "text": [
      "62\n"
     ]
    }
   ],
   "source": [
    "print(sample_size)"
   ]
  },
  {
   "cell_type": "markdown",
   "id": "0f5e3104",
   "metadata": {},
   "source": [
    "Thus, we would need a minimum sample size of approximately 62 surgical conferences' registration fees to estimate the mean registration fee with a 95% confidence level and a margin of error of ₦5,000."
   ]
  },
  {
   "cell_type": "code",
   "execution_count": null,
   "id": "0cee836c",
   "metadata": {},
   "outputs": [],
   "source": []
  }
 ],
 "metadata": {
  "kernelspec": {
   "display_name": "Python 3 (ipykernel)",
   "language": "python",
   "name": "python3"
  },
  "language_info": {
   "codemirror_mode": {
    "name": "ipython",
    "version": 3
   },
   "file_extension": ".py",
   "mimetype": "text/x-python",
   "name": "python",
   "nbconvert_exporter": "python",
   "pygments_lexer": "ipython3",
   "version": "3.11.3"
  }
 },
 "nbformat": 4,
 "nbformat_minor": 5
}
